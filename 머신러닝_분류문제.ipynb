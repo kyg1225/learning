{
  "nbformat": 4,
  "nbformat_minor": 0,
  "metadata": {
    "colab": {
      "name": "머신러닝-분류문제.ipynb",
      "provenance": [],
      "authorship_tag": "ABX9TyNi4jRRArJg6wFjBR3eiu+b",
      "include_colab_link": true
    },
    "kernelspec": {
      "name": "python3",
      "display_name": "Python 3"
    }
  },
  "cells": [
    {
      "cell_type": "markdown",
      "metadata": {
        "id": "view-in-github",
        "colab_type": "text"
      },
      "source": [
        "<a href=\"https://colab.research.google.com/github/kyg1225/learning/blob/master/%EB%A8%B8%EC%8B%A0%EB%9F%AC%EB%8B%9D_%EB%B6%84%EB%A5%98%EB%AC%B8%EC%A0%9C.ipynb\" target=\"_parent\"><img src=\"https://colab.research.google.com/assets/colab-badge.svg\" alt=\"Open In Colab\"/></a>"
      ]
    },
    {
      "cell_type": "markdown",
      "metadata": {
        "id": "CEQOE-P3XpZb",
        "colab_type": "text"
      },
      "source": [
        "# __로지스틱 회귀__\n",
        "* 분류를 확율로 생각하는 방식\n",
        "> 어느 클래스에 분류 되는지 구하는 것\n",
        "\n",
        "\n",
        "\n",
        "\n",
        "\n"
      ]
    },
    {
      "cell_type": "code",
      "metadata": {
        "id": "YV5k-dDgVDwk",
        "colab_type": "code",
        "outputId": "00645721-0224-4cc5-bf9b-bfba5b8525e9",
        "colab": {
          "base_uri": "https://localhost:8080/",
          "height": 297
        }
      },
      "source": [
        "import matplotlib.pyplot as plt\n",
        "import numpy as np\n",
        "\n",
        "def sigmoid(z):\n",
        "  return 1.0/(1.0 + np.exp(-z))\n",
        "\n",
        "z = np.arange(-7, 7, 0.1)\n",
        "f_x = sigmoid(z)\n",
        "\n",
        "plt.plot(z, f_x)\n",
        "plt.axvline(0.0, color = 'k')\n",
        "plt.ylim(-0.1, 1.1)\n",
        "plt.xlabel('z')\n",
        "plt.ylabel('f(x)')\n",
        "\n",
        "plt.yticks([0.0, 0.5, 1.0])\n",
        "ax = plt.gca()\n",
        "ax.yaxis.grid(True)\n",
        "plt.tight_layout()\n",
        "plt.show()"
      ],
      "execution_count": 0,
      "outputs": [
        {
          "output_type": "display_data",
          "data": {
            "image/png": "[encoded data removed]",
            "text/plain": [
              "<Figure size 432x288 with 1 Axes>"
            ]
          },
          "metadata": {
            "tags": [],
            "needs_background": "light"
          }
        }
      ]
    },
    {
      "cell_type": "markdown",
      "metadata": {
        "id": "X_fg8dLfav5q",
        "colab_type": "text"
      },
      "source": [
        "# __결정 트리 학습__\n",
        "\n",
        "* 과적합\n",
        "> 트리 최대의 깊이 제한 (=트리 가지치기 - ptuning)\n",
        "\n",
        "* 목적함수의 목적 => 정보이득(IG) 최대화\n",
        "> 가장 **정보가 풍부한 특성**으로 **노드**를 **나누기** 위함. 트리 알고리즘으로 **최적화**   \n",
        "> * f = 어떠한 불할 기법을 사용할 것 인가   \n",
        "> * Dp,Dj = 부모와 j번째 자식 노드의 데이터 셋   \n",
        "> * Np,Nj = 부모, 자식 노드에 있는 전체 데이터의 개수   \n",
        "> * 정보이득 = (부모 노드의 불순도) - (자식 노드 합의 불순도)   \n",
        "\n",
        "\n",
        "\n",
        "\n",
        "1. __지니 불순도__\n",
        "> * 엔트로피와 반대 개념   \n",
        "> * 잘못 뷴류될 확률을 최소화 하기 위한 기준   \n",
        "> * 가지치기 수준을 바꿔가며 실험 권장\n",
        "\n",
        "2. __엔트로피 > 트리의 상호 의존 정보를 최대화 하는 것__\n",
        "> * 한 노드의 모든 데이터가 같은 클래스라면 엔트로피는 0   \n",
        "> * 반대로 클래스 분포사 균등하다면 엔트로피는 최대 1\n",
        "\n",
        "3. 분류 오차\n",
        "> * 노드의 클래스 확률 변화에 둔감"
      ]
    }
  ]
}